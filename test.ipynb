{
 "cells": [
  {
   "cell_type": "code",
   "execution_count": 5,
   "metadata": {},
   "outputs": [
    {
     "name": "stdout",
     "output_type": "stream",
     "text": [
      "tensor_in: \n",
      " tensor([[[1.],\n",
      "         [2.],\n",
      "         [3.]],\n",
      "\n",
      "        [[1.],\n",
      "         [0.],\n",
      "         [0.]]])\n",
      "pack: \n",
      " PackedSequence(data=tensor([[1.],\n",
      "        [1.],\n",
      "        [2.],\n",
      "        [3.]]), batch_sizes=tensor([2, 1, 1]), sorted_indices=None, unsorted_indices=None)\n",
      "unpacked: \n",
      " (tensor([[[-0.8657, -0.7557],\n",
      "         [-0.9131, -0.6973]],\n",
      "\n",
      "        [[-0.4771, -0.9748],\n",
      "         [ 0.0000,  0.0000]],\n",
      "\n",
      "        [[-0.7080, -0.9861],\n",
      "         [ 0.0000,  0.0000]]], grad_fn=<CopySlices>), tensor([3, 1]))\n"
     ]
    }
   ],
   "source": [
    "import torch\n",
    "import torch.nn as nn\n",
    "from torch.autograd import Variable\n",
    "from torch.nn import utils as nn_utils\n",
    "batch_size = 2\n",
    "max_length = 3\n",
    "hidden_size = 2\n",
    "n_layers =1\n",
    "\n",
    "tensor_in = torch.FloatTensor([[1, 2, 3], [1, 0, 0]]).resize_(2,3,1)\n",
    "tensor_in = Variable( tensor_in ) #[batch, seq, feature], [2, 3, 1]\n",
    "seq_lengths = [3,1] # list of integers holding information about the batch size at each sequence step\n",
    "print('tensor_in: \\n' ,tensor_in)\n",
    "# pack it\n",
    "pack = nn_utils.rnn.pack_padded_sequence(tensor_in, seq_lengths, batch_first=True)\n",
    "print('pack: \\n',pack)\n",
    "# initialize\n",
    "rnn = nn.RNN(1, hidden_size, n_layers, batch_first=True)\n",
    "h0 = Variable(torch.randn(n_layers, batch_size, hidden_size))\n",
    "\n",
    "#forward\n",
    "out, _ = rnn(pack, h0)\n",
    "\n",
    "# unpack\n",
    "unpacked = nn_utils.rnn.pad_packed_sequence(out)\n",
    "print('unpacked: \\n',unpacked)"
   ]
  },
  {
   "cell_type": "code",
   "execution_count": null,
   "metadata": {},
   "outputs": [],
   "source": []
  }
 ],
 "metadata": {
  "kernelspec": {
   "display_name": "Python 3",
   "language": "python",
   "name": "python3"
  },
  "language_info": {
   "codemirror_mode": {
    "name": "ipython",
    "version": 3
   },
   "file_extension": ".py",
   "mimetype": "text/x-python",
   "name": "python",
   "nbconvert_exporter": "python",
   "pygments_lexer": "ipython3",
   "version": "3.6.8"
  }
 },
 "nbformat": 4,
 "nbformat_minor": 2
}
